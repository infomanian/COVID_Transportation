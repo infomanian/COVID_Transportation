{
 "cells": [
  {
   "cell_type": "code",
   "execution_count": 216,
   "id": "39d76d35",
   "metadata": {},
   "outputs": [],
   "source": [
    "import pandas as pd\n",
    "import os\n",
    "import datetime"
   ]
  },
  {
   "cell_type": "markdown",
   "id": "1c01ee24",
   "metadata": {},
   "source": [
    "### convert datetime to two separate columns date and time "
   ]
  },
  {
   "cell_type": "code",
   "execution_count": 231,
   "id": "632daa60",
   "metadata": {},
   "outputs": [],
   "source": [
    "def feature_eng(df, column):\n",
    "    print(type(df[column][0]))\n",
    "    df['pickup_date'] = [d.date() for d in pd.to_datetime(df[column])]\n",
    "    df.drop(column, axis=1, inplace=True)\n",
    "    df['count'] = 1\n",
    "    return df"
   ]
  },
  {
   "cell_type": "code",
   "execution_count": 232,
   "id": "4ee51354",
   "metadata": {},
   "outputs": [
    {
     "data": {
      "text/plain": [
       "datetime.date"
      ]
     },
     "execution_count": 232,
     "metadata": {},
     "output_type": "execute_result"
    }
   ],
   "source": [
    "type(df['pickup_date'][0])"
   ]
  },
  {
   "cell_type": "code",
   "execution_count": 233,
   "id": "0bdfd088",
   "metadata": {},
   "outputs": [],
   "source": [
    "list_files = os.listdir('data/')\n",
    "list_output = os.listdir('new_data/')\n",
    "list_output = [item.replace('.csv', '') for item in list_output]"
   ]
  },
  {
   "cell_type": "code",
   "execution_count": 234,
   "id": "e83ee0cb",
   "metadata": {},
   "outputs": [],
   "source": [
    "for file in list_output:\n",
    "    if file in list_files:\n",
    "        list_files.remove(file)\n",
    "        "
   ]
  },
  {
   "cell_type": "code",
   "execution_count": 235,
   "id": "40287321",
   "metadata": {},
   "outputs": [
    {
     "data": {
      "text/plain": [
       "156"
      ]
     },
     "execution_count": 235,
     "metadata": {},
     "output_type": "execute_result"
    }
   ],
   "source": [
    "len(list_files)"
   ]
  },
  {
   "cell_type": "code",
   "execution_count": 236,
   "id": "40ab9ad7",
   "metadata": {},
   "outputs": [
    {
     "data": {
      "text/plain": [
       "226"
      ]
     },
     "execution_count": 236,
     "metadata": {},
     "output_type": "execute_result"
    }
   ],
   "source": [
    "len(list_output)"
   ]
  },
  {
   "cell_type": "markdown",
   "id": "0059a167",
   "metadata": {},
   "source": [
    "### create light files"
   ]
  },
  {
   "cell_type": "code",
   "execution_count": null,
   "id": "b2ab9808",
   "metadata": {},
   "outputs": [
    {
     "name": "stdout",
     "output_type": "stream",
     "text": [
      "reading yellow_tripdata_2009-01.parquet file\n"
     ]
    }
   ],
   "source": [
    "full_df = pd.DataFrame()\n",
    "taxi = ''\n",
    "for file_name in list_files:\n",
    "    print('reading {} file'.format(file_name))\n",
    "    column = [item for item in f.columns if 'pickup_datetime' in item.lower()][0]\n",
    "    f =  pd.read_parquet('data/' + file_name, engine='pyarrow', columns = [column])\n",
    "    f = feature_eng(f, column)\n",
    "    f = f.groupby('pickup_date').count()\n",
    "    f.to_csv('new_data/' + file_name + '.csv')        "
   ]
  },
  {
   "cell_type": "markdown",
   "id": "e65ef7f7",
   "metadata": {},
   "source": [
    "### load and concatenate files"
   ]
  },
  {
   "cell_type": "code",
   "execution_count": null,
   "id": "2f3793de",
   "metadata": {},
   "outputs": [],
   "source": [
    "full_df = pd.DataFrame()\n",
    "for file_name in list_files:\n",
    "    print('concatenating {} file'.format(file_name))\n",
    "    f =  pd.read_parquet('data/' + file_name, engine='pyarrow', columns = ['pickup_datetime'])\n",
    "    f = feature_eng(f)\n",
    "    f = f.groupby('pickup_date').count()\n",
    "    full_df = full_df.append(f)"
   ]
  },
  {
   "cell_type": "code",
   "execution_count": 139,
   "id": "50d54ce0",
   "metadata": {},
   "outputs": [],
   "source": [
    "f =  pd.read_parquet('data/yellow_tripdata_2009-01.parquet', engine='pyarrow')"
   ]
  },
  {
   "cell_type": "code",
   "execution_count": 140,
   "id": "cdfb94b0",
   "metadata": {},
   "outputs": [
    {
     "data": {
      "text/plain": [
       "Index(['vendor_name', 'Trip_Pickup_DateTime', 'Trip_Dropoff_DateTime',\n",
       "       'Passenger_Count', 'Trip_Distance', 'Start_Lon', 'Start_Lat',\n",
       "       'Rate_Code', 'store_and_forward', 'End_Lon', 'End_Lat', 'Payment_Type',\n",
       "       'Fare_Amt', 'surcharge', 'mta_tax', 'Tip_Amt', 'Tolls_Amt',\n",
       "       'Total_Amt'],\n",
       "      dtype='object')"
      ]
     },
     "execution_count": 140,
     "metadata": {},
     "output_type": "execute_result"
    }
   ],
   "source": [
    "f.columns"
   ]
  },
  {
   "cell_type": "code",
   "execution_count": 162,
   "id": "725439a5",
   "metadata": {},
   "outputs": [],
   "source": [
    "a = [item for item in f.columns if 'pickup_datetime' in item.lower()][0]"
   ]
  },
  {
   "cell_type": "code",
   "execution_count": 163,
   "id": "b1c8c4e9",
   "metadata": {},
   "outputs": [
    {
     "data": {
      "text/plain": [
       "'Trip_Pickup_DateTime'"
      ]
     },
     "execution_count": 163,
     "metadata": {},
     "output_type": "execute_result"
    }
   ],
   "source": [
    "a"
   ]
  },
  {
   "cell_type": "code",
   "execution_count": null,
   "id": "c8705f6e",
   "metadata": {},
   "outputs": [],
   "source": []
  }
 ],
 "metadata": {
  "kernelspec": {
   "display_name": "Python 3 (ipykernel)",
   "language": "python",
   "name": "python3"
  },
  "language_info": {
   "codemirror_mode": {
    "name": "ipython",
    "version": 3
   },
   "file_extension": ".py",
   "mimetype": "text/x-python",
   "name": "python",
   "nbconvert_exporter": "python",
   "pygments_lexer": "ipython3",
   "version": "3.9.7"
  }
 },
 "nbformat": 4,
 "nbformat_minor": 5
}
