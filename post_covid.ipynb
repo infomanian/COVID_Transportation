{
 "cells": [
  {
   "cell_type": "code",
   "execution_count": 30,
   "id": "39d76d35",
   "metadata": {},
   "outputs": [],
   "source": [
    "import pandas as pd\n",
    "import os\n",
    "import datetime\n",
    "import re"
   ]
  },
  {
   "cell_type": "markdown",
   "id": "1c01ee24",
   "metadata": {},
   "source": [
    "### convert datetime to two separate columns date and time "
   ]
  },
  {
   "cell_type": "code",
   "execution_count": 31,
   "id": "632daa60",
   "metadata": {},
   "outputs": [],
   "source": [
    "def feature_eng(df, column):\n",
    "    df['pickup_date'] = [d.date() for d in pd.to_datetime(df[column])]\n",
    "    df.drop(column, axis=1, inplace=True)\n",
    "    df['count'] = 1\n",
    "    return df"
   ]
  },
  {
   "cell_type": "code",
   "execution_count": 32,
   "id": "501b63cb",
   "metadata": {},
   "outputs": [],
   "source": [
    "def get_files_list(path):\n",
    "    return os.listdir(path)"
   ]
  },
  {
   "cell_type": "code",
   "execution_count": 50,
   "id": "0bdfd088",
   "metadata": {},
   "outputs": [],
   "source": [
    "def update_list_files():\n",
    "    list_files = get_files_list('data/')\n",
    "    list_output = get_files_list('new_data/')\n",
    "    list_output = [item.replace('.csv', '') for item in list_output]\n",
    "    for file in list_output:\n",
    "        #print(file)\n",
    "        if file in list_files:\n",
    "            list_files.remove(file)\n",
    "            #print(len(list_files))\n",
    "    return list_files"
   ]
  },
  {
   "cell_type": "code",
   "execution_count": 51,
   "id": "2c9d776f",
   "metadata": {},
   "outputs": [],
   "source": [
    "a = update_list_files()\n"
   ]
  },
  {
   "cell_type": "code",
   "execution_count": 52,
   "id": "1f60547d",
   "metadata": {},
   "outputs": [
    {
     "data": {
      "text/plain": [
       "[]"
      ]
     },
     "execution_count": 52,
     "metadata": {},
     "output_type": "execute_result"
    }
   ],
   "source": [
    "a"
   ]
  },
  {
   "cell_type": "markdown",
   "id": "11ac3fef",
   "metadata": {},
   "source": [
    "### create light files"
   ]
  },
  {
   "cell_type": "code",
   "execution_count": 53,
   "id": "b2ab9808",
   "metadata": {},
   "outputs": [],
   "source": [
    "list_files = update_list_files()\n",
    "for file_name in list_files:\n",
    "    print('reading {} file'.format(file_name))\n",
    "    import pyarrow.parquet as pq\n",
    "    pfile = pq.read_table(file_name)\n",
    "    #print(\"Column names: {}\".format(pfile.column_names))\n",
    "    column = [item for item in pfile.column_names if 'pickup_datetime' in item.lower()][0]\n",
    "    f =  pd.read_parquet('data/' + file_name, engine='pyarrow', columns = [column])\n",
    "    \n",
    "    f = feature_eng(f, column)\n",
    "    f = f.groupby('pickup_date').count()\n",
    "    f.to_csv('new_data/' + file_name + '.csv')        "
   ]
  },
  {
   "cell_type": "markdown",
   "id": "c9836511",
   "metadata": {},
   "source": [
    "### load and concatenate files"
   ]
  },
  {
   "cell_type": "code",
   "execution_count": 54,
   "id": "ec9f43f2",
   "metadata": {},
   "outputs": [],
   "source": [
    "full_df = pd.DataFrame()\n",
    "list_files = get_files_list('new_data/')\n",
    "for file_name in list_files:\n",
    "    #print('reading {} file'.format(file_name))\n",
    "    f =  pd.read_csv('new_data/' + file_name)\n",
    "    taxi_type = re.split('_', file_name)[0]\n",
    "    f['type'] = taxi_type\n",
    "    full_df = full_df.append(f)"
   ]
  },
  {
   "cell_type": "code",
   "execution_count": 55,
   "id": "47e80a7e",
   "metadata": {
    "scrolled": true
   },
   "outputs": [
    {
     "data": {
      "text/html": [
       "<div>\n",
       "<style scoped>\n",
       "    .dataframe tbody tr th:only-of-type {\n",
       "        vertical-align: middle;\n",
       "    }\n",
       "\n",
       "    .dataframe tbody tr th {\n",
       "        vertical-align: top;\n",
       "    }\n",
       "\n",
       "    .dataframe thead th {\n",
       "        text-align: right;\n",
       "    }\n",
       "</style>\n",
       "<table border=\"1\" class=\"dataframe\">\n",
       "  <thead>\n",
       "    <tr style=\"text-align: right;\">\n",
       "      <th></th>\n",
       "      <th>pickup_date</th>\n",
       "      <th>count</th>\n",
       "      <th>type</th>\n",
       "    </tr>\n",
       "  </thead>\n",
       "  <tbody>\n",
       "    <tr>\n",
       "      <th>0</th>\n",
       "      <td>2019-02-01</td>\n",
       "      <td>860161</td>\n",
       "      <td>fhvhv</td>\n",
       "    </tr>\n",
       "    <tr>\n",
       "      <th>1</th>\n",
       "      <td>2019-02-02</td>\n",
       "      <td>866393</td>\n",
       "      <td>fhvhv</td>\n",
       "    </tr>\n",
       "    <tr>\n",
       "      <th>2</th>\n",
       "      <td>2019-02-03</td>\n",
       "      <td>756721</td>\n",
       "      <td>fhvhv</td>\n",
       "    </tr>\n",
       "    <tr>\n",
       "      <th>3</th>\n",
       "      <td>2019-02-04</td>\n",
       "      <td>592170</td>\n",
       "      <td>fhvhv</td>\n",
       "    </tr>\n",
       "    <tr>\n",
       "      <th>4</th>\n",
       "      <td>2019-02-05</td>\n",
       "      <td>576476</td>\n",
       "      <td>fhvhv</td>\n",
       "    </tr>\n",
       "  </tbody>\n",
       "</table>\n",
       "</div>"
      ],
      "text/plain": [
       "  pickup_date   count   type\n",
       "0  2019-02-01  860161  fhvhv\n",
       "1  2019-02-02  866393  fhvhv\n",
       "2  2019-02-03  756721  fhvhv\n",
       "3  2019-02-04  592170  fhvhv\n",
       "4  2019-02-05  576476  fhvhv"
      ]
     },
     "execution_count": 55,
     "metadata": {},
     "output_type": "execute_result"
    }
   ],
   "source": [
    "full_df.head()"
   ]
  },
  {
   "cell_type": "code",
   "execution_count": 56,
   "id": "abd8a7e9",
   "metadata": {},
   "outputs": [],
   "source": [
    "final_dataset = full_df.groupby('pickup_date').sum()"
   ]
  },
  {
   "cell_type": "code",
   "execution_count": 57,
   "id": "7f904c03",
   "metadata": {},
   "outputs": [
    {
     "data": {
      "text/html": [
       "<div>\n",
       "<style scoped>\n",
       "    .dataframe tbody tr th:only-of-type {\n",
       "        vertical-align: middle;\n",
       "    }\n",
       "\n",
       "    .dataframe tbody tr th {\n",
       "        vertical-align: top;\n",
       "    }\n",
       "\n",
       "    .dataframe thead th {\n",
       "        text-align: right;\n",
       "    }\n",
       "</style>\n",
       "<table border=\"1\" class=\"dataframe\">\n",
       "  <thead>\n",
       "    <tr style=\"text-align: right;\">\n",
       "      <th></th>\n",
       "      <th>count</th>\n",
       "    </tr>\n",
       "    <tr>\n",
       "      <th>pickup_date</th>\n",
       "      <th></th>\n",
       "    </tr>\n",
       "  </thead>\n",
       "  <tbody>\n",
       "    <tr>\n",
       "      <th>2001-01-01</th>\n",
       "      <td>11</td>\n",
       "    </tr>\n",
       "    <tr>\n",
       "      <th>2001-01-05</th>\n",
       "      <td>1</td>\n",
       "    </tr>\n",
       "    <tr>\n",
       "      <th>2001-01-06</th>\n",
       "      <td>2</td>\n",
       "    </tr>\n",
       "    <tr>\n",
       "      <th>2001-02-02</th>\n",
       "      <td>1</td>\n",
       "    </tr>\n",
       "    <tr>\n",
       "      <th>2002-02-02</th>\n",
       "      <td>11</td>\n",
       "    </tr>\n",
       "    <tr>\n",
       "      <th>...</th>\n",
       "      <td>...</td>\n",
       "    </tr>\n",
       "    <tr>\n",
       "      <th>2081-06-24</th>\n",
       "      <td>1</td>\n",
       "    </tr>\n",
       "    <tr>\n",
       "      <th>2084-11-04</th>\n",
       "      <td>8</td>\n",
       "    </tr>\n",
       "    <tr>\n",
       "      <th>2088-01-24</th>\n",
       "      <td>2</td>\n",
       "    </tr>\n",
       "    <tr>\n",
       "      <th>2090-12-31</th>\n",
       "      <td>1</td>\n",
       "    </tr>\n",
       "    <tr>\n",
       "      <th>2098-09-11</th>\n",
       "      <td>1</td>\n",
       "    </tr>\n",
       "  </tbody>\n",
       "</table>\n",
       "<p>4804 rows × 1 columns</p>\n",
       "</div>"
      ],
      "text/plain": [
       "             count\n",
       "pickup_date       \n",
       "2001-01-01      11\n",
       "2001-01-05       1\n",
       "2001-01-06       2\n",
       "2001-02-02       1\n",
       "2002-02-02      11\n",
       "...            ...\n",
       "2081-06-24       1\n",
       "2084-11-04       8\n",
       "2088-01-24       2\n",
       "2090-12-31       1\n",
       "2098-09-11       1\n",
       "\n",
       "[4804 rows x 1 columns]"
      ]
     },
     "execution_count": 57,
     "metadata": {},
     "output_type": "execute_result"
    }
   ],
   "source": [
    "final_dataset"
   ]
  },
  {
   "cell_type": "code",
   "execution_count": null,
   "id": "16df73ce",
   "metadata": {},
   "outputs": [],
   "source": []
  }
 ],
 "metadata": {
  "kernelspec": {
   "display_name": "Python 3 (ipykernel)",
   "language": "python",
   "name": "python3"
  },
  "language_info": {
   "codemirror_mode": {
    "name": "ipython",
    "version": 3
   },
   "file_extension": ".py",
   "mimetype": "text/x-python",
   "name": "python",
   "nbconvert_exporter": "python",
   "pygments_lexer": "ipython3",
   "version": "3.9.7"
  }
 },
 "nbformat": 4,
 "nbformat_minor": 5
}
