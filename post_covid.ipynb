{
 "cells": [
  {
   "cell_type": "code",
   "execution_count": 308,
   "id": "39d76d35",
   "metadata": {},
   "outputs": [],
   "source": [
    "import pandas as pd\n",
    "import os\n",
    "import datetime"
   ]
  },
  {
   "cell_type": "markdown",
   "id": "1c01ee24",
   "metadata": {},
   "source": [
    "### convert datetime to two separate columns date and time "
   ]
  },
  {
   "cell_type": "code",
   "execution_count": 320,
   "id": "632daa60",
   "metadata": {},
   "outputs": [],
   "source": [
    "def feature_eng(df, column):\n",
    "    df['pickup_date'] = [d.date() for d in pd.to_datetime(df[column])]\n",
    "    df.drop(column, axis=1, inplace=True)\n",
    "    df['count'] = 1\n",
    "    return df"
   ]
  },
  {
   "cell_type": "code",
   "execution_count": 321,
   "id": "0d71ce09",
   "metadata": {},
   "outputs": [
    {
     "data": {
      "text/plain": [
       "datetime.date"
      ]
     },
     "execution_count": 321,
     "metadata": {},
     "output_type": "execute_result"
    }
   ],
   "source": [
    "type(df['pickup_date'][0])"
   ]
  },
  {
   "cell_type": "code",
   "execution_count": 322,
   "id": "0bdfd088",
   "metadata": {},
   "outputs": [],
   "source": [
    "list_files = os.listdir('data/')\n",
    "list_output = os.listdir('new_data/')\n",
    "list_output = [item.replace('.csv', '') for item in list_output]"
   ]
  },
  {
   "cell_type": "code",
   "execution_count": 323,
   "id": "978e2747",
   "metadata": {},
   "outputs": [],
   "source": [
    "for file in list_output:\n",
    "    if file in list_files:\n",
    "        list_files.remove(file)\n",
    "        "
   ]
  },
  {
   "cell_type": "markdown",
   "id": "6e25c88f",
   "metadata": {},
   "source": [
    "### create light files"
   ]
  },
  {
   "cell_type": "code",
   "execution_count": 326,
   "id": "b2ab9808",
   "metadata": {},
   "outputs": [
    {
     "name": "stdout",
     "output_type": "stream",
     "text": [
      "reading yellow_tripdata_2011-01.parquet file\n",
      "reading yellow_tripdata_2011-02.parquet file\n",
      "reading yellow_tripdata_2011-03.parquet file\n",
      "reading yellow_tripdata_2011-04.parquet file\n",
      "reading yellow_tripdata_2011-05.parquet file\n",
      "reading yellow_tripdata_2011-06.parquet file\n",
      "reading yellow_tripdata_2011-07.parquet file\n",
      "reading yellow_tripdata_2011-08.parquet file\n",
      "reading yellow_tripdata_2011-09.parquet file\n",
      "reading yellow_tripdata_2011-10.parquet file\n",
      "reading yellow_tripdata_2011-11.parquet file\n",
      "reading yellow_tripdata_2011-12.parquet file\n",
      "reading yellow_tripdata_2012-01.parquet file\n",
      "reading yellow_tripdata_2012-02.parquet file\n",
      "reading yellow_tripdata_2012-03.parquet file\n",
      "reading yellow_tripdata_2012-04.parquet file\n",
      "reading yellow_tripdata_2012-05.parquet file\n",
      "reading yellow_tripdata_2012-06.parquet file\n",
      "reading yellow_tripdata_2012-07.parquet file\n",
      "reading yellow_tripdata_2012-08.parquet file\n",
      "reading yellow_tripdata_2012-09.parquet file\n",
      "reading yellow_tripdata_2012-10.parquet file\n",
      "reading yellow_tripdata_2012-11.parquet file\n",
      "reading yellow_tripdata_2012-12.parquet file\n",
      "reading yellow_tripdata_2013-01.parquet file\n",
      "reading yellow_tripdata_2013-02.parquet file\n",
      "reading yellow_tripdata_2013-03.parquet file\n",
      "reading yellow_tripdata_2013-04.parquet file\n",
      "reading yellow_tripdata_2013-05.parquet file\n",
      "reading yellow_tripdata_2013-06.parquet file\n",
      "reading yellow_tripdata_2013-07.parquet file\n",
      "reading yellow_tripdata_2013-08.parquet file\n",
      "reading yellow_tripdata_2013-09.parquet file\n",
      "reading yellow_tripdata_2013-10.parquet file\n",
      "reading yellow_tripdata_2013-11.parquet file\n",
      "reading yellow_tripdata_2013-12.parquet file\n",
      "reading yellow_tripdata_2014-01.parquet file\n",
      "reading yellow_tripdata_2014-02.parquet file\n",
      "reading yellow_tripdata_2014-03.parquet file\n",
      "reading yellow_tripdata_2014-04.parquet file\n",
      "reading yellow_tripdata_2014-05.parquet file\n",
      "reading yellow_tripdata_2014-06.parquet file\n",
      "reading yellow_tripdata_2014-07.parquet file\n",
      "reading yellow_tripdata_2014-08.parquet file\n",
      "reading yellow_tripdata_2014-09.parquet file\n",
      "reading yellow_tripdata_2014-10.parquet file\n",
      "reading yellow_tripdata_2014-11.parquet file\n",
      "reading yellow_tripdata_2014-12.parquet file\n",
      "reading yellow_tripdata_2015-01.parquet file\n",
      "reading yellow_tripdata_2015-02.parquet file\n",
      "reading yellow_tripdata_2015-03.parquet file\n",
      "reading yellow_tripdata_2015-04.parquet file\n",
      "reading yellow_tripdata_2015-05.parquet file\n",
      "reading yellow_tripdata_2015-06.parquet file\n",
      "reading yellow_tripdata_2015-07.parquet file\n",
      "reading yellow_tripdata_2015-08.parquet file\n",
      "reading yellow_tripdata_2015-09.parquet file\n",
      "reading yellow_tripdata_2015-10.parquet file\n",
      "reading yellow_tripdata_2015-11.parquet file\n",
      "reading yellow_tripdata_2015-12.parquet file\n",
      "reading yellow_tripdata_2016-01.parquet file\n",
      "reading yellow_tripdata_2016-02.parquet file\n",
      "reading yellow_tripdata_2016-03.parquet file\n",
      "reading yellow_tripdata_2016-04.parquet file\n",
      "reading yellow_tripdata_2016-05.parquet file\n",
      "reading yellow_tripdata_2016-06.parquet file\n",
      "reading yellow_tripdata_2016-07.parquet file\n",
      "reading yellow_tripdata_2016-08.parquet file\n",
      "reading yellow_tripdata_2016-09.parquet file\n",
      "reading yellow_tripdata_2016-10.parquet file\n",
      "reading yellow_tripdata_2016-11.parquet file\n",
      "reading yellow_tripdata_2016-12.parquet file\n",
      "reading yellow_tripdata_2017-01.parquet file\n",
      "reading yellow_tripdata_2017-02.parquet file\n",
      "reading yellow_tripdata_2017-03.parquet file\n",
      "reading yellow_tripdata_2017-04.parquet file\n",
      "reading yellow_tripdata_2017-05.parquet file\n",
      "reading yellow_tripdata_2017-06.parquet file\n",
      "reading yellow_tripdata_2017-07.parquet file\n",
      "reading yellow_tripdata_2017-08.parquet file\n",
      "reading yellow_tripdata_2017-09.parquet file\n",
      "reading yellow_tripdata_2017-10.parquet file\n",
      "reading yellow_tripdata_2017-11.parquet file\n",
      "reading yellow_tripdata_2017-12.parquet file\n",
      "reading yellow_tripdata_2018-01.parquet file\n",
      "reading yellow_tripdata_2018-02.parquet file\n",
      "reading yellow_tripdata_2018-03.parquet file\n",
      "reading yellow_tripdata_2018-04.parquet file\n",
      "reading yellow_tripdata_2018-05.parquet file\n",
      "reading yellow_tripdata_2018-06.parquet file\n",
      "reading yellow_tripdata_2018-07.parquet file\n",
      "reading yellow_tripdata_2018-08.parquet file\n",
      "reading yellow_tripdata_2018-09.parquet file\n",
      "reading yellow_tripdata_2018-10.parquet file\n",
      "reading yellow_tripdata_2018-11.parquet file\n",
      "reading yellow_tripdata_2018-12.parquet file\n",
      "reading yellow_tripdata_2019-01.parquet file\n",
      "reading yellow_tripdata_2019-02.parquet file\n",
      "reading yellow_tripdata_2019-03.parquet file\n",
      "reading yellow_tripdata_2019-04.parquet file\n",
      "reading yellow_tripdata_2019-05.parquet file\n",
      "reading yellow_tripdata_2019-06.parquet file\n",
      "reading yellow_tripdata_2019-07.parquet file\n",
      "reading yellow_tripdata_2019-08.parquet file\n",
      "reading yellow_tripdata_2019-09.parquet file\n",
      "reading yellow_tripdata_2019-10.parquet file\n",
      "reading yellow_tripdata_2019-11.parquet file\n",
      "reading yellow_tripdata_2019-12.parquet file\n",
      "reading yellow_tripdata_2020-01.parquet file\n",
      "reading yellow_tripdata_2020-02.parquet file\n",
      "reading yellow_tripdata_2020-03.parquet file\n",
      "reading yellow_tripdata_2020-04.parquet file\n",
      "reading yellow_tripdata_2020-05.parquet file\n",
      "reading yellow_tripdata_2020-06.parquet file\n",
      "reading yellow_tripdata_2020-07.parquet file\n",
      "reading yellow_tripdata_2020-08.parquet file\n",
      "reading yellow_tripdata_2020-09.parquet file\n",
      "reading yellow_tripdata_2020-10.parquet file\n",
      "reading yellow_tripdata_2020-11.parquet file\n",
      "reading yellow_tripdata_2020-12.parquet file\n",
      "reading yellow_tripdata_2021-01.parquet file\n",
      "reading yellow_tripdata_2021-02.parquet file\n",
      "reading yellow_tripdata_2021-03.parquet file\n",
      "reading yellow_tripdata_2021-04.parquet file\n",
      "reading yellow_tripdata_2021-05.parquet file\n",
      "reading yellow_tripdata_2021-06.parquet file\n",
      "reading yellow_tripdata_2021-07.parquet file\n",
      "reading yellow_tripdata_2021-08.parquet file\n",
      "reading yellow_tripdata_2021-09.parquet file\n",
      "reading yellow_tripdata_2021-10.parquet file\n",
      "reading yellow_tripdata_2021-11.parquet file\n",
      "reading yellow_tripdata_2021-12.parquet file\n",
      "reading yellow_tripdata_2022-01.parquet file\n",
      "reading yellow_tripdata_2022-02.parquet file\n",
      "reading yellow_tripdata_2022-03.parquet file\n",
      "reading yellow_tripdata_2022-04.parquet file\n"
     ]
    }
   ],
   "source": [
    "for file_name in list_files:\n",
    "    print('reading {} file'.format(file_name))\n",
    "    f =  pd.read_parquet('data/' + file_name, engine='pyarrow', columns = [column])\n",
    "    column = [item for item in f.columns if 'pickup_datetime' in item.lower()][0]\n",
    "    f = feature_eng(f, column)\n",
    "    f = f.groupby('pickup_date').count()\n",
    "    f.to_csv('new_data/' + file_name + '.csv')        "
   ]
  },
  {
   "cell_type": "markdown",
   "id": "22384e2a",
   "metadata": {},
   "source": [
    "### load and concatenate files"
   ]
  },
  {
   "cell_type": "code",
   "execution_count": null,
   "id": "e42f51b5",
   "metadata": {},
   "outputs": [],
   "source": [
    "full_df = pd.DataFrame()\n",
    "for file_name in list_files:\n",
    "    print('concatenating {} file'.format(file_name))\n",
    "    f =  pd.read_parquet('data/' + file_name, engine='pyarrow', columns = ['pickup_datetime'])\n",
    "    f = feature_eng(f)\n",
    "    f = f.groupby('pickup_date').count()\n",
    "    full_df = full_df.append(f)"
   ]
  }
 ],
 "metadata": {
  "kernelspec": {
   "display_name": "Python 3 (ipykernel)",
   "language": "python",
   "name": "python3"
  },
  "language_info": {
   "codemirror_mode": {
    "name": "ipython",
    "version": 3
   },
   "file_extension": ".py",
   "mimetype": "text/x-python",
   "name": "python",
   "nbconvert_exporter": "python",
   "pygments_lexer": "ipython3",
   "version": "3.9.7"
  }
 },
 "nbformat": 4,
 "nbformat_minor": 5
}
