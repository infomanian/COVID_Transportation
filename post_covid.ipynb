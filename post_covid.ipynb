{
 "cells": [
  {
   "cell_type": "code",
   "execution_count": 1,
   "id": "39d76d35",
   "metadata": {},
   "outputs": [],
   "source": [
    "import pandas as pd\n",
    "import os\n",
    "import datetime\n",
    "import re\n",
    "import pyarrow.parquet as pq\n"
   ]
  },
  {
   "cell_type": "markdown",
   "id": "1c01ee24",
   "metadata": {},
   "source": [
    "### convert datetime to two separate columns date and time "
   ]
  },
  {
   "cell_type": "code",
   "execution_count": 2,
   "id": "632daa60",
   "metadata": {},
   "outputs": [],
   "source": [
    "def feature_eng(df, column):\n",
    "    df['pickup_date'] = [d.date() for d in pd.to_datetime(df[column])]\n",
    "    df.drop(column, axis=1, inplace=True)\n",
    "    df['count'] = 1\n",
    "    return df"
   ]
  },
  {
   "cell_type": "code",
   "execution_count": 3,
   "id": "0e0ba5dd",
   "metadata": {},
   "outputs": [],
   "source": [
    "def get_files_list(path):\n",
    "    return os.listdir(path)"
   ]
  },
  {
   "cell_type": "code",
   "execution_count": 4,
   "id": "0bdfd088",
   "metadata": {},
   "outputs": [],
   "source": [
    "def update_list_files():\n",
    "    list_files = get_files_list('data/')\n",
    "    list_output = get_files_list('new_data/')\n",
    "    list_output = [item.replace('.csv', '') for item in list_output]\n",
    "    for file in list_output:\n",
    "        #print(file)\n",
    "        if file in list_files:\n",
    "            list_files.remove(file)\n",
    "            #print(len(list_files))\n",
    "    return list_files"
   ]
  },
  {
   "cell_type": "markdown",
   "id": "02a1c185",
   "metadata": {},
   "source": [
    "### create light files"
   ]
  },
  {
   "cell_type": "code",
   "execution_count": 6,
   "id": "b2ab9808",
   "metadata": {
    "collapsed": true
   },
   "outputs": [
    {
     "name": "stdout",
     "output_type": "stream",
     "text": [
      "number of files to read:  382\n",
      "reading fhvhv_tripdata_2019-02.parquet file\n",
      "reading fhvhv_tripdata_2019-03.parquet file\n",
      "reading fhvhv_tripdata_2019-04.parquet file\n",
      "reading fhvhv_tripdata_2019-05.parquet file\n",
      "reading fhvhv_tripdata_2019-06.parquet file\n",
      "reading fhvhv_tripdata_2019-07.parquet file\n",
      "reading fhvhv_tripdata_2019-08.parquet file\n",
      "reading fhvhv_tripdata_2019-09.parquet file\n",
      "reading fhvhv_tripdata_2019-10.parquet file\n",
      "reading fhvhv_tripdata_2019-11.parquet file\n",
      "reading fhvhv_tripdata_2019-12.parquet file\n",
      "reading fhvhv_tripdata_2020-01.parquet file\n",
      "reading fhvhv_tripdata_2020-02.parquet file\n",
      "reading fhvhv_tripdata_2020-03.parquet file\n",
      "reading fhvhv_tripdata_2020-04.parquet file\n",
      "reading fhvhv_tripdata_2020-05.parquet file\n",
      "reading fhvhv_tripdata_2020-06.parquet file\n",
      "reading fhvhv_tripdata_2020-07.parquet file\n",
      "reading fhvhv_tripdata_2020-08.parquet file\n",
      "reading fhvhv_tripdata_2020-09.parquet file\n",
      "reading fhvhv_tripdata_2020-10.parquet file\n",
      "reading fhvhv_tripdata_2020-11.parquet file\n",
      "reading fhvhv_tripdata_2020-12.parquet file\n",
      "reading fhvhv_tripdata_2021-01.parquet file\n",
      "reading fhvhv_tripdata_2021-02.parquet file\n",
      "reading fhvhv_tripdata_2021-03.parquet file\n",
      "reading fhvhv_tripdata_2021-04.parquet file\n",
      "reading fhvhv_tripdata_2021-05.parquet file\n",
      "reading fhvhv_tripdata_2021-06.parquet file\n",
      "reading fhvhv_tripdata_2021-07.parquet file\n",
      "reading fhvhv_tripdata_2021-08.parquet file\n",
      "reading fhvhv_tripdata_2021-09.parquet file\n",
      "reading fhvhv_tripdata_2021-10.parquet file\n",
      "reading fhvhv_tripdata_2021-11.parquet file\n",
      "reading fhvhv_tripdata_2021-12.parquet file\n",
      "reading fhvhv_tripdata_2022-01.parquet file\n",
      "reading fhvhv_tripdata_2022-02.parquet file\n",
      "reading fhvhv_tripdata_2022-03.parquet file\n"
     ]
    },
    {
     "ename": "KeyboardInterrupt",
     "evalue": "",
     "output_type": "error",
     "traceback": [
      "\u001b[1;31m---------------------------------------------------------------------------\u001b[0m",
      "\u001b[1;31mKeyboardInterrupt\u001b[0m                         Traceback (most recent call last)",
      "\u001b[1;32mC:\\Users\\ANONYM~1\\AppData\\Local\\Temp/ipykernel_5668/770736050.py\u001b[0m in \u001b[0;36m<module>\u001b[1;34m\u001b[0m\n\u001b[0;32m      3\u001b[0m \u001b[1;32mfor\u001b[0m \u001b[0mfile_name\u001b[0m \u001b[1;32min\u001b[0m \u001b[0mlist_files\u001b[0m\u001b[1;33m:\u001b[0m\u001b[1;33m\u001b[0m\u001b[1;33m\u001b[0m\u001b[0m\n\u001b[0;32m      4\u001b[0m     \u001b[0mprint\u001b[0m\u001b[1;33m(\u001b[0m\u001b[1;34m'reading {} file'\u001b[0m\u001b[1;33m.\u001b[0m\u001b[0mformat\u001b[0m\u001b[1;33m(\u001b[0m\u001b[0mfile_name\u001b[0m\u001b[1;33m)\u001b[0m\u001b[1;33m)\u001b[0m\u001b[1;33m\u001b[0m\u001b[1;33m\u001b[0m\u001b[0m\n\u001b[1;32m----> 5\u001b[1;33m     \u001b[0mpfile\u001b[0m \u001b[1;33m=\u001b[0m \u001b[0mpq\u001b[0m\u001b[1;33m.\u001b[0m\u001b[0mread_table\u001b[0m\u001b[1;33m(\u001b[0m\u001b[1;34m'data/'\u001b[0m \u001b[1;33m+\u001b[0m \u001b[0mfile_name\u001b[0m\u001b[1;33m)\u001b[0m\u001b[1;33m\u001b[0m\u001b[1;33m\u001b[0m\u001b[0m\n\u001b[0m\u001b[0;32m      6\u001b[0m     \u001b[1;31m#print(\"Column names: {}\".format(pfile.column_names))\u001b[0m\u001b[1;33m\u001b[0m\u001b[1;33m\u001b[0m\u001b[0m\n\u001b[0;32m      7\u001b[0m     \u001b[0mcolumn\u001b[0m \u001b[1;33m=\u001b[0m \u001b[1;33m[\u001b[0m\u001b[0mitem\u001b[0m \u001b[1;32mfor\u001b[0m \u001b[0mitem\u001b[0m \u001b[1;32min\u001b[0m \u001b[0mpfile\u001b[0m\u001b[1;33m.\u001b[0m\u001b[0mcolumn_names\u001b[0m \u001b[1;32mif\u001b[0m \u001b[1;34m'pickup_datetime'\u001b[0m \u001b[1;32min\u001b[0m \u001b[0mitem\u001b[0m\u001b[1;33m.\u001b[0m\u001b[0mlower\u001b[0m\u001b[1;33m(\u001b[0m\u001b[1;33m)\u001b[0m\u001b[1;33m]\u001b[0m\u001b[1;33m[\u001b[0m\u001b[1;36m0\u001b[0m\u001b[1;33m]\u001b[0m\u001b[1;33m\u001b[0m\u001b[1;33m\u001b[0m\u001b[0m\n",
      "\u001b[1;32mC:\\anaconda3\\lib\\site-packages\\pyarrow\\parquet\\__init__.py\u001b[0m in \u001b[0;36mread_table\u001b[1;34m(source, columns, use_threads, metadata, schema, use_pandas_metadata, memory_map, read_dictionary, filesystem, filters, buffer_size, partitioning, use_legacy_dataset, ignore_prefixes, pre_buffer, coerce_int96_timestamp_unit, decryption_properties, thrift_string_size_limit, thrift_container_size_limit)\u001b[0m\n\u001b[0;32m   2825\u001b[0m             )\n\u001b[0;32m   2826\u001b[0m \u001b[1;33m\u001b[0m\u001b[0m\n\u001b[1;32m-> 2827\u001b[1;33m         return dataset.read(columns=columns, use_threads=use_threads,\n\u001b[0m\u001b[0;32m   2828\u001b[0m                             use_pandas_metadata=use_pandas_metadata)\n\u001b[0;32m   2829\u001b[0m \u001b[1;33m\u001b[0m\u001b[0m\n",
      "\u001b[1;32mC:\\anaconda3\\lib\\site-packages\\pyarrow\\parquet\\__init__.py\u001b[0m in \u001b[0;36mread\u001b[1;34m(self, columns, use_threads, use_pandas_metadata)\u001b[0m\n\u001b[0;32m   2471\u001b[0m                 )\n\u001b[0;32m   2472\u001b[0m \u001b[1;33m\u001b[0m\u001b[0m\n\u001b[1;32m-> 2473\u001b[1;33m         table = self._dataset.to_table(\n\u001b[0m\u001b[0;32m   2474\u001b[0m             \u001b[0mcolumns\u001b[0m\u001b[1;33m=\u001b[0m\u001b[0mcolumns\u001b[0m\u001b[1;33m,\u001b[0m \u001b[0mfilter\u001b[0m\u001b[1;33m=\u001b[0m\u001b[0mself\u001b[0m\u001b[1;33m.\u001b[0m\u001b[0m_filter_expression\u001b[0m\u001b[1;33m,\u001b[0m\u001b[1;33m\u001b[0m\u001b[1;33m\u001b[0m\u001b[0m\n\u001b[0;32m   2475\u001b[0m             \u001b[0muse_threads\u001b[0m\u001b[1;33m=\u001b[0m\u001b[0muse_threads\u001b[0m\u001b[1;33m\u001b[0m\u001b[1;33m\u001b[0m\u001b[0m\n",
      "\u001b[1;31mKeyboardInterrupt\u001b[0m: "
     ]
    }
   ],
   "source": [
    "list_files = update_list_files()\n",
    "print('number of files to read: ', len(list_files))\n",
    "for file_name in list_files:\n",
    "    print('reading {} file'.format(file_name))\n",
    "    pfile = pq.read_table('data/' + file_name)\n",
    "    #print(\"Column names: {}\".format(pfile.column_names))\n",
    "    column = [item for item in pfile.column_names if 'pickup_datetime' in item.lower()][0]\n",
    "    f =  pd.read_parquet('data/' + file_name, engine='pyarrow', columns = [column])\n",
    "    \n",
    "    f = feature_eng(f, column)\n",
    "    f = f.groupby('pickup_date').count()\n",
    "    f.to_csv('new_data/' + file_name + '.csv')        "
   ]
  },
  {
   "cell_type": "markdown",
   "id": "bf19448f",
   "metadata": {},
   "source": [
    "### load and concatenate files"
   ]
  },
  {
   "cell_type": "code",
   "execution_count": 7,
   "id": "1e4a1da8",
   "metadata": {},
   "outputs": [],
   "source": [
    "full_df = pd.DataFrame()\n",
    "list_files = get_files_list('new_data/')\n",
    "for file_name in list_files:\n",
    "    #print('reading {} file'.format(file_name))\n",
    "    f =  pd.read_csv('new_data/' + file_name)\n",
    "    taxi_type = re.split('_', file_name)[0]\n",
    "    f['type'] = taxi_type\n",
    "    full_df = full_df.append(f)"
   ]
  },
  {
   "cell_type": "code",
   "execution_count": 8,
   "id": "446bda59",
   "metadata": {
    "scrolled": true
   },
   "outputs": [],
   "source": [
    "full_df.to_csv('test.csv')"
   ]
  },
  {
   "cell_type": "code",
   "execution_count": 9,
   "id": "973f4497",
   "metadata": {},
   "outputs": [],
   "source": [
    "final_dataset = full_df.groupby('pickup_date').sum()"
   ]
  },
  {
   "cell_type": "code",
   "execution_count": 10,
   "id": "7e9a6d09",
   "metadata": {},
   "outputs": [],
   "source": [
    "final_dataset.to_csv('test.csv')"
   ]
  },
  {
   "cell_type": "code",
   "execution_count": null,
   "id": "a7fdcbe9",
   "metadata": {},
   "outputs": [],
   "source": []
  }
 ],
 "metadata": {
  "kernelspec": {
   "display_name": "Python 3 (ipykernel)",
   "language": "python",
   "name": "python3"
  },
  "language_info": {
   "codemirror_mode": {
    "name": "ipython",
    "version": 3
   },
   "file_extension": ".py",
   "mimetype": "text/x-python",
   "name": "python",
   "nbconvert_exporter": "python",
   "pygments_lexer": "ipython3",
   "version": "3.9.7"
  }
 },
 "nbformat": 4,
 "nbformat_minor": 5
}
